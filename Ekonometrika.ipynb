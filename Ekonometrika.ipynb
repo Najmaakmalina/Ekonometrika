{
 "cells": [
  {
   "cell_type": "code",
   "execution_count": 2,
   "metadata": {},
   "outputs": [],
   "source": [
    "import pandas as pd\n",
    "import numpy as np\n",
    "import itertools\n",
    "import time\n",
    "import statsmodels.api as sm\n",
    "import matplotlib.pyplot as plt\n",
    "\n",
    "%matplotlib inline\n"
   ]
  },
  {
   "cell_type": "markdown",
   "metadata": {},
   "source": [
    "## read dataset"
   ]
  },
  {
   "cell_type": "code",
   "execution_count": 21,
   "metadata": {},
   "outputs": [],
   "source": [
    "data = pd.read_excel(\"C:/Users/Najma Akmalina Ni'ma/Downloads/Indikator Sosial dan Kependudukan Sumut 2022.xlsx\") \n",
    "data = data.drop(\"No\", axis=\"columns\")\n",
    "data = data.drop(\"Kabupaten/ Kota\", axis=\"columns\")"
   ]
  },
  {
   "cell_type": "code",
   "execution_count": 22,
   "metadata": {},
   "outputs": [
    {
     "data": {
      "text/html": [
       "<div>\n",
       "<style scoped>\n",
       "    .dataframe tbody tr th:only-of-type {\n",
       "        vertical-align: middle;\n",
       "    }\n",
       "\n",
       "    .dataframe tbody tr th {\n",
       "        vertical-align: top;\n",
       "    }\n",
       "\n",
       "    .dataframe thead th {\n",
       "        text-align: right;\n",
       "    }\n",
       "</style>\n",
       "<table border=\"1\" class=\"dataframe\">\n",
       "  <thead>\n",
       "    <tr style=\"text-align: right;\">\n",
       "      <th></th>\n",
       "      <th>Mean_Upah</th>\n",
       "      <th>Mean_Pengeluaran</th>\n",
       "      <th>IPM</th>\n",
       "      <th>GK</th>\n",
       "      <th>TPT</th>\n",
       "      <th>TPAK</th>\n",
       "    </tr>\n",
       "  </thead>\n",
       "  <tbody>\n",
       "    <tr>\n",
       "      <th>0</th>\n",
       "      <td>1936186</td>\n",
       "      <td>756507</td>\n",
       "      <td>63.69</td>\n",
       "      <td>454570</td>\n",
       "      <td>2.81</td>\n",
       "      <td>84.50</td>\n",
       "    </tr>\n",
       "    <tr>\n",
       "      <th>1</th>\n",
       "      <td>2446786</td>\n",
       "      <td>986053</td>\n",
       "      <td>68.05</td>\n",
       "      <td>450345</td>\n",
       "      <td>7.64</td>\n",
       "      <td>71.15</td>\n",
       "    </tr>\n",
       "    <tr>\n",
       "      <th>2</th>\n",
       "      <td>2570717</td>\n",
       "      <td>985014</td>\n",
       "      <td>70.92</td>\n",
       "      <td>445612</td>\n",
       "      <td>3.65</td>\n",
       "      <td>74.53</td>\n",
       "    </tr>\n",
       "    <tr>\n",
       "      <th>3</th>\n",
       "      <td>2169552</td>\n",
       "      <td>910016</td>\n",
       "      <td>70.31</td>\n",
       "      <td>450940</td>\n",
       "      <td>7.97</td>\n",
       "      <td>76.51</td>\n",
       "    </tr>\n",
       "    <tr>\n",
       "      <th>4</th>\n",
       "      <td>3220528</td>\n",
       "      <td>980647</td>\n",
       "      <td>74.14</td>\n",
       "      <td>466316</td>\n",
       "      <td>1.07</td>\n",
       "      <td>81.07</td>\n",
       "    </tr>\n",
       "    <tr>\n",
       "      <th>5</th>\n",
       "      <td>3169912</td>\n",
       "      <td>1314085</td>\n",
       "      <td>75.96</td>\n",
       "      <td>465681</td>\n",
       "      <td>1.39</td>\n",
       "      <td>79.04</td>\n",
       "    </tr>\n",
       "    <tr>\n",
       "      <th>6</th>\n",
       "      <td>2640800</td>\n",
       "      <td>1080056</td>\n",
       "      <td>72.92</td>\n",
       "      <td>489503</td>\n",
       "      <td>6.90</td>\n",
       "      <td>63.51</td>\n",
       "    </tr>\n",
       "    <tr>\n",
       "      <th>7</th>\n",
       "      <td>2395538</td>\n",
       "      <td>1119177</td>\n",
       "      <td>71.13</td>\n",
       "      <td>397944</td>\n",
       "      <td>6.26</td>\n",
       "      <td>65.68</td>\n",
       "    </tr>\n",
       "    <tr>\n",
       "      <th>8</th>\n",
       "      <td>2452670</td>\n",
       "      <td>1079047</td>\n",
       "      <td>73.77</td>\n",
       "      <td>441744</td>\n",
       "      <td>5.51</td>\n",
       "      <td>69.91</td>\n",
       "    </tr>\n",
       "    <tr>\n",
       "      <th>9</th>\n",
       "      <td>4265440</td>\n",
       "      <td>1023193</td>\n",
       "      <td>72.56</td>\n",
       "      <td>436713</td>\n",
       "      <td>0.88</td>\n",
       "      <td>85.01</td>\n",
       "    </tr>\n",
       "    <tr>\n",
       "      <th>10</th>\n",
       "      <td>3716099</td>\n",
       "      <td>1328079</td>\n",
       "      <td>75.36</td>\n",
       "      <td>563660</td>\n",
       "      <td>2.71</td>\n",
       "      <td>85.11</td>\n",
       "    </tr>\n",
       "    <tr>\n",
       "      <th>11</th>\n",
       "      <td>2865840</td>\n",
       "      <td>1207845</td>\n",
       "      <td>76.19</td>\n",
       "      <td>448489</td>\n",
       "      <td>8.79</td>\n",
       "      <td>66.84</td>\n",
       "    </tr>\n",
       "    <tr>\n",
       "      <th>12</th>\n",
       "      <td>2236053</td>\n",
       "      <td>1073134</td>\n",
       "      <td>71.86</td>\n",
       "      <td>453383</td>\n",
       "      <td>6.88</td>\n",
       "      <td>71.51</td>\n",
       "    </tr>\n",
       "    <tr>\n",
       "      <th>13</th>\n",
       "      <td>1754976</td>\n",
       "      <td>666410</td>\n",
       "      <td>63.17</td>\n",
       "      <td>350452</td>\n",
       "      <td>3.69</td>\n",
       "      <td>78.54</td>\n",
       "    </tr>\n",
       "    <tr>\n",
       "      <th>14</th>\n",
       "      <td>2576221</td>\n",
       "      <td>993122</td>\n",
       "      <td>70.32</td>\n",
       "      <td>419180</td>\n",
       "      <td>0.42</td>\n",
       "      <td>85.83</td>\n",
       "    </tr>\n",
       "    <tr>\n",
       "      <th>15</th>\n",
       "      <td>2563861</td>\n",
       "      <td>1124641</td>\n",
       "      <td>68.85</td>\n",
       "      <td>357844</td>\n",
       "      <td>0.26</td>\n",
       "      <td>86.20</td>\n",
       "    </tr>\n",
       "    <tr>\n",
       "      <th>16</th>\n",
       "      <td>2512346</td>\n",
       "      <td>1243086</td>\n",
       "      <td>71.67</td>\n",
       "      <td>396267</td>\n",
       "      <td>1.16</td>\n",
       "      <td>83.57</td>\n",
       "    </tr>\n",
       "    <tr>\n",
       "      <th>17</th>\n",
       "      <td>2735385</td>\n",
       "      <td>1050164</td>\n",
       "      <td>71.21</td>\n",
       "      <td>478072</td>\n",
       "      <td>4.98</td>\n",
       "      <td>67.59</td>\n",
       "    </tr>\n",
       "    <tr>\n",
       "      <th>18</th>\n",
       "      <td>2363604</td>\n",
       "      <td>1109844</td>\n",
       "      <td>69.51</td>\n",
       "      <td>508524</td>\n",
       "      <td>6.21</td>\n",
       "      <td>73.50</td>\n",
       "    </tr>\n",
       "    <tr>\n",
       "      <th>19</th>\n",
       "      <td>3107113</td>\n",
       "      <td>1140732</td>\n",
       "      <td>70.93</td>\n",
       "      <td>430944</td>\n",
       "      <td>4.31</td>\n",
       "      <td>70.33</td>\n",
       "    </tr>\n",
       "    <tr>\n",
       "      <th>20</th>\n",
       "      <td>2777146</td>\n",
       "      <td>1115276</td>\n",
       "      <td>69.58</td>\n",
       "      <td>418610</td>\n",
       "      <td>5.90</td>\n",
       "      <td>75.10</td>\n",
       "    </tr>\n",
       "    <tr>\n",
       "      <th>21</th>\n",
       "      <td>2955436</td>\n",
       "      <td>1130765</td>\n",
       "      <td>72.16</td>\n",
       "      <td>448994</td>\n",
       "      <td>3.15</td>\n",
       "      <td>66.76</td>\n",
       "    </tr>\n",
       "    <tr>\n",
       "      <th>22</th>\n",
       "      <td>2650269</td>\n",
       "      <td>1157202</td>\n",
       "      <td>72.77</td>\n",
       "      <td>527922</td>\n",
       "      <td>3.75</td>\n",
       "      <td>65.31</td>\n",
       "    </tr>\n",
       "    <tr>\n",
       "      <th>23</th>\n",
       "      <td>2003551</td>\n",
       "      <td>710926</td>\n",
       "      <td>63.75</td>\n",
       "      <td>474533</td>\n",
       "      <td>2.59</td>\n",
       "      <td>77.75</td>\n",
       "    </tr>\n",
       "    <tr>\n",
       "      <th>24</th>\n",
       "      <td>2097705</td>\n",
       "      <td>616939</td>\n",
       "      <td>62.93</td>\n",
       "      <td>487469</td>\n",
       "      <td>0.53</td>\n",
       "      <td>84.63</td>\n",
       "    </tr>\n",
       "    <tr>\n",
       "      <th>25</th>\n",
       "      <td>2046669</td>\n",
       "      <td>1355934</td>\n",
       "      <td>74.74</td>\n",
       "      <td>516367</td>\n",
       "      <td>7.05</td>\n",
       "      <td>65.85</td>\n",
       "    </tr>\n",
       "    <tr>\n",
       "      <th>26</th>\n",
       "      <td>2112424</td>\n",
       "      <td>1212640</td>\n",
       "      <td>69.86</td>\n",
       "      <td>515456</td>\n",
       "      <td>4.62</td>\n",
       "      <td>70.77</td>\n",
       "    </tr>\n",
       "    <tr>\n",
       "      <th>27</th>\n",
       "      <td>3169929</td>\n",
       "      <td>1304827</td>\n",
       "      <td>79.70</td>\n",
       "      <td>631886</td>\n",
       "      <td>9.36</td>\n",
       "      <td>65.27</td>\n",
       "    </tr>\n",
       "    <tr>\n",
       "      <th>28</th>\n",
       "      <td>2310560</td>\n",
       "      <td>1247833</td>\n",
       "      <td>76.17</td>\n",
       "      <td>578512</td>\n",
       "      <td>6.39</td>\n",
       "      <td>77.26</td>\n",
       "    </tr>\n",
       "    <tr>\n",
       "      <th>29</th>\n",
       "      <td>3743457</td>\n",
       "      <td>1851065</td>\n",
       "      <td>81.76</td>\n",
       "      <td>607166</td>\n",
       "      <td>8.89</td>\n",
       "      <td>62.23</td>\n",
       "    </tr>\n",
       "    <tr>\n",
       "      <th>30</th>\n",
       "      <td>2723869</td>\n",
       "      <td>1221962</td>\n",
       "      <td>76.95</td>\n",
       "      <td>499451</td>\n",
       "      <td>6.36</td>\n",
       "      <td>58.61</td>\n",
       "    </tr>\n",
       "    <tr>\n",
       "      <th>31</th>\n",
       "      <td>2622271</td>\n",
       "      <td>1192550</td>\n",
       "      <td>76.05</td>\n",
       "      <td>480196</td>\n",
       "      <td>7.76</td>\n",
       "      <td>64.41</td>\n",
       "    </tr>\n",
       "    <tr>\n",
       "      <th>32</th>\n",
       "      <td>1952603</td>\n",
       "      <td>858826</td>\n",
       "      <td>70.23</td>\n",
       "      <td>426349</td>\n",
       "      <td>3.65</td>\n",
       "      <td>66.11</td>\n",
       "    </tr>\n",
       "  </tbody>\n",
       "</table>\n",
       "</div>"
      ],
      "text/plain": [
       "    Mean_Upah  Mean_Pengeluaran    IPM      GK   TPT   TPAK\n",
       "0     1936186            756507  63.69  454570  2.81  84.50\n",
       "1     2446786            986053  68.05  450345  7.64  71.15\n",
       "2     2570717            985014  70.92  445612  3.65  74.53\n",
       "3     2169552            910016  70.31  450940  7.97  76.51\n",
       "4     3220528            980647  74.14  466316  1.07  81.07\n",
       "5     3169912           1314085  75.96  465681  1.39  79.04\n",
       "6     2640800           1080056  72.92  489503  6.90  63.51\n",
       "7     2395538           1119177  71.13  397944  6.26  65.68\n",
       "8     2452670           1079047  73.77  441744  5.51  69.91\n",
       "9     4265440           1023193  72.56  436713  0.88  85.01\n",
       "10    3716099           1328079  75.36  563660  2.71  85.11\n",
       "11    2865840           1207845  76.19  448489  8.79  66.84\n",
       "12    2236053           1073134  71.86  453383  6.88  71.51\n",
       "13    1754976            666410  63.17  350452  3.69  78.54\n",
       "14    2576221            993122  70.32  419180  0.42  85.83\n",
       "15    2563861           1124641  68.85  357844  0.26  86.20\n",
       "16    2512346           1243086  71.67  396267  1.16  83.57\n",
       "17    2735385           1050164  71.21  478072  4.98  67.59\n",
       "18    2363604           1109844  69.51  508524  6.21  73.50\n",
       "19    3107113           1140732  70.93  430944  4.31  70.33\n",
       "20    2777146           1115276  69.58  418610  5.90  75.10\n",
       "21    2955436           1130765  72.16  448994  3.15  66.76\n",
       "22    2650269           1157202  72.77  527922  3.75  65.31\n",
       "23    2003551            710926  63.75  474533  2.59  77.75\n",
       "24    2097705            616939  62.93  487469  0.53  84.63\n",
       "25    2046669           1355934  74.74  516367  7.05  65.85\n",
       "26    2112424           1212640  69.86  515456  4.62  70.77\n",
       "27    3169929           1304827  79.70  631886  9.36  65.27\n",
       "28    2310560           1247833  76.17  578512  6.39  77.26\n",
       "29    3743457           1851065  81.76  607166  8.89  62.23\n",
       "30    2723869           1221962  76.95  499451  6.36  58.61\n",
       "31    2622271           1192550  76.05  480196  7.76  64.41\n",
       "32    1952603            858826  70.23  426349  3.65  66.11"
      ]
     },
     "execution_count": 22,
     "metadata": {},
     "output_type": "execute_result"
    }
   ],
   "source": [
    "data"
   ]
  },
  {
   "cell_type": "markdown",
   "metadata": {},
   "source": [
    "## Recheck dataset and cleaning"
   ]
  },
  {
   "cell_type": "code",
   "execution_count": 23,
   "metadata": {},
   "outputs": [
    {
     "data": {
      "text/plain": [
       "Mean_Upah             int64\n",
       "Mean_Pengeluaran      int64\n",
       "IPM                 float64\n",
       "GK                    int64\n",
       "TPT                 float64\n",
       "TPAK                float64\n",
       "dtype: object"
      ]
     },
     "execution_count": 23,
     "metadata": {},
     "output_type": "execute_result"
    }
   ],
   "source": [
    "data.dtypes"
   ]
  },
  {
   "cell_type": "code",
   "execution_count": 81,
   "metadata": {},
   "outputs": [
    {
     "name": "stderr",
     "output_type": "stream",
     "text": [
      "C:\\Users\\Najma Akmalina Ni'ma\\AppData\\Local\\Temp\\ipykernel_8188\\3670423156.py:3: FutureWarning: The default value of regex will change from True to False in a future version. In addition, single character regular expressions will *not* be treated as literal strings when regex=True.\n",
      "  data['PERTUMBUHAN EKONOMI'] = data['PERTUMBUHAN EKONOMI'].str.replace('%', '').str.replace('$', '').astype(float)\n"
     ]
    }
   ],
   "source": [
    "# # Menghapus simbol persen dan mengubah menjadi float\n",
    "# data['INFLASI'] = data['INFLASI'].str.replace('%', '').astype(float)\n",
    "# data['PERTUMBUHAN EKONOMI'] = data['PERTUMBUHAN EKONOMI'].str.replace('%', '').str.replace('$', '').astype(float)\n"
   ]
  },
  {
   "cell_type": "code",
   "execution_count": 11,
   "metadata": {},
   "outputs": [
    {
     "name": "stdout",
     "output_type": "stream",
     "text": [
      "   Mean_Upah  Mean_Pengeluaran       IPM        GK       TPT      TPAK\n",
      "0  -1.256291         -1.487468 -1.861786 -0.252950 -0.686198  1.403513\n",
      "1  -0.334786         -0.479891 -0.860014 -0.320997  1.113886 -0.274373\n",
      "2  -0.111121         -0.484452 -0.200591 -0.397226 -0.373140  0.150440\n",
      "3  -0.835124         -0.813651 -0.340747 -0.311414  1.236873  0.399295\n",
      "4   1.061626         -0.503621  0.539250 -0.063772 -1.334676  0.972416\n"
     ]
    }
   ],
   "source": [
    "from sklearn.preprocessing import StandardScaler\n",
    "import pandas as pd\n",
    "\n",
    "# Create a scaler object\n",
    "scaler = StandardScaler()\n",
    "\n",
    "# Scale the data\n",
    "data_scaled = scaler.fit_transform(data)\n",
    "\n",
    "# Convert the scaled data back to a DataFrame, preserving the column names\n",
    "data_scaled = pd.DataFrame(data_scaled, columns=data.columns)\n",
    "\n",
    "# Check the result\n",
    "print(data_scaled.head())\n"
   ]
  },
  {
   "cell_type": "code",
   "execution_count": 24,
   "metadata": {},
   "outputs": [
    {
     "data": {
      "text/plain": [
       "<AxesSubplot:>"
      ]
     },
     "execution_count": 24,
     "metadata": {},
     "output_type": "execute_result"
    },
    {
     "data": {
      "image/png": "[encoded data removed]",
      "text/plain": [
       "<Figure size 700x600 with 2 Axes>"
      ]
     },
     "metadata": {},
     "output_type": "display_data"
    }
   ],
   "source": [
    "import seaborn as sns\n",
    "corr_matrix = data_scaled.corr()\n",
    "fig = plt.figure(figsize=(7,6))\n",
    "sns.heatmap(corr_matrix)"
   ]
  },
  {
   "cell_type": "code",
   "execution_count": 25,
   "metadata": {},
   "outputs": [
    {
     "data": {
      "text/plain": [
       "Mean_Upah           float64\n",
       "Mean_Pengeluaran    float64\n",
       "IPM                 float64\n",
       "GK                  float64\n",
       "TPT                 float64\n",
       "TPAK                float64\n",
       "dtype: object"
      ]
     },
     "execution_count": 25,
     "metadata": {},
     "output_type": "execute_result"
    }
   ],
   "source": [
    "data_scaled.dtypes"
   ]
  },
  {
   "cell_type": "code",
   "execution_count": 26,
   "metadata": {},
   "outputs": [
    {
     "name": "stdout",
     "output_type": "stream",
     "text": [
      "Mean_Upah           0\n",
      "Mean_Pengeluaran    0\n",
      "IPM                 0\n",
      "GK                  0\n",
      "TPT                 0\n",
      "TPAK                0\n",
      "dtype: int64\n"
     ]
    }
   ],
   "source": [
    "print(data_scaled[['Mean_Upah', 'Mean_Pengeluaran', 'IPM', 'GK', 'TPT', 'TPAK']].isnull().sum())\n",
    "# data = data_scaled.dropna(subset=['PERTUMBUHAN EKONOMI'])\n",
    "# data.isnull().sum()\n",
    "\n"
   ]
  },
  {
   "cell_type": "code",
   "execution_count": 27,
   "metadata": {},
   "outputs": [],
   "source": [
    "#setting the value for x and y\n",
    "y = data['GK']\n",
    "x = data[['Mean_Upah', 'Mean_Pengeluaran', 'IPM', 'TPT', 'TPAK']]"
   ]
  },
  {
   "cell_type": "code",
   "execution_count": 37,
   "metadata": {},
   "outputs": [],
   "source": [
    "# Menambahkan intercept\n",
    "X = sm.add_constant(x)\n",
    "\n",
    "# 3. Membangun Model Regresi Linier Berganda\n",
    "model = sm.OLS(y, x).fit()"
   ]
  },
  {
   "cell_type": "code",
   "execution_count": 38,
   "metadata": {},
   "outputs": [
    {
     "name": "stdout",
     "output_type": "stream",
     "text": [
      "Variansi Inflasi Faktor (VIF):\n",
      "            feature         VIF\n",
      "0         Mean_Upah   44.098303\n",
      "1  Mean_Pengeluaran   71.766217\n",
      "2               IPM  350.241092\n",
      "3               TPT   10.005728\n",
      "4              TPAK  122.422118\n"
     ]
    }
   ],
   "source": [
    "\n",
    "# 4. Mengidentifikasi Multikolinieritas\n",
    "# Menghitung VIF untuk setiap fitur\n",
    "vif_data = pd.DataFrame()\n",
    "vif_data['feature'] = x.columns\n",
    "vif_data['VIF'] = [variance_inflation_factor(x.values, i) for i in range(x.shape[1])]\n",
    "\n",
    "\n",
    "print(\"Variansi Inflasi Faktor (VIF):\")\n",
    "print(vif_data)"
   ]
  },
  {
   "cell_type": "code",
   "execution_count": 33,
   "metadata": {},
   "outputs": [],
   "source": [
    "import pandas as pd\n",
    "import numpy as np\n",
    "import statsmodels.api as sm\n",
    "import matplotlib.pyplot as plt\n",
    "import seaborn as sns\n",
    "from statsmodels.stats.outliers_influence import variance_inflation_factor\n",
    "from statsmodels.formula.api import ols\n",
    "from statsmodels.stats.diagnostic import het_breuschpagan\n",
    "from statsmodels.graphics.tsaplots import plot_acf\n"
   ]
  },
  {
   "cell_type": "code",
   "execution_count": 34,
   "metadata": {},
   "outputs": [
    {
     "name": "stdout",
     "output_type": "stream",
     "text": [
      "\n",
      "Uji Heteroskedastisitas:\n",
      "               Lagrange Multiplier Statistic   p-value  f-value  f p-value\n",
      "Breusch-Pagan                      17.115893  0.001835  6.03427   0.000657\n"
     ]
    }
   ],
   "source": [
    "# 5. Uji Heteroskedastisitas\n",
    "# Melakukan uji Breusch-Pagan\n",
    "bp_test = het_breuschpagan(model.resid, model.model.exog)\n",
    "bp_results = pd.DataFrame({\n",
    "    'Lagrange Multiplier Statistic': bp_test[0],\n",
    "    'p-value': bp_test[1],\n",
    "    'f-value': bp_test[2],\n",
    "    'f p-value': bp_test[3]\n",
    "}, index=['Breusch-Pagan'])\n",
    "print(\"\\nUji Heteroskedastisitas:\")\n",
    "print(bp_results)"
   ]
  },
  {
   "cell_type": "code",
   "execution_count": 35,
   "metadata": {},
   "outputs": [
    {
     "data": {
      "text/plain": [
       "<Figure size 1200x600 with 0 Axes>"
      ]
     },
     "metadata": {},
     "output_type": "display_data"
    },
    {
     "data": {
      "image/png": "[encoded data removed]",
      "text/plain": [
       "<Figure size 640x480 with 1 Axes>"
      ]
     },
     "metadata": {},
     "output_type": "display_data"
    }
   ],
   "source": [
    "# 6. Uji Autokorelasi\n",
    "# Plot ACF untuk melihat autokorelasi\n",
    "plt.figure(figsize=(12, 6))\n",
    "plot_acf(model.resid, lags=10)\n",
    "plt.title('Autocorrelation Function (ACF) of Residuals')\n",
    "plt.show()"
   ]
  },
  {
   "cell_type": "code",
   "execution_count": 36,
   "metadata": {},
   "outputs": [
    {
     "data": {
      "image/png": "[encoded data removed]",
      "text/plain": [
       "<Figure size 1200x600 with 1 Axes>"
      ]
     },
     "metadata": {},
     "output_type": "display_data"
    }
   ],
   "source": [
    "# 7. Analisis Residual\n",
    "# Plot residuals untuk melihat pola\n",
    "plt.figure(figsize=(12, 6))\n",
    "sns.residplot(x=model.fittedvalues, y=model.resid, lowess=True, \n",
    "               line_kws={'color': 'red', 'lw': 1})\n",
    "plt.axhline(0, color='black', ls='--', lw=1)\n",
    "plt.xlabel('Fitted Values')\n",
    "plt.ylabel('Residuals')\n",
    "plt.title('Residuals vs Fitted Values')\n",
    "plt.show()"
   ]
  }
 ],
 "metadata": {
  "kernelspec": {
   "display_name": "base",
   "language": "python",
   "name": "python3"
  },
  "language_info": {
   "codemirror_mode": {
    "name": "ipython",
    "version": 3
   },
   "file_extension": ".py",
   "mimetype": "text/x-python",
   "name": "python",
   "nbconvert_exporter": "python",
   "pygments_lexer": "ipython3",
   "version": "3.9.13"
  }
 },
 "nbformat": 4,
 "nbformat_minor": 2
}
